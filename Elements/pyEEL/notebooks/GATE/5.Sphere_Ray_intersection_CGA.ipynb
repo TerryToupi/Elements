{
 "cells": [
  {
   "cell_type": "markdown",
   "id": "bc2917a9",
   "metadata": {},
   "source": [
    "# Tools to build a CGA-based raytracer"
   ]
  },
  {
   "cell_type": "markdown",
   "id": "e6e7c8ea",
   "metadata": {},
   "source": [
    "Basic Imports"
   ]
  },
  {
   "cell_type": "code",
   "execution_count": 1,
   "id": "ca4c4b6c",
   "metadata": {},
   "outputs": [
    {
     "name": "stderr",
     "output_type": "stream",
     "text": [
      "OMP: Info #276: omp_set_nested routine deprecated, please use omp_set_max_active_levels instead.\n",
      "/Users/manos/opt/anaconda3/envs/elements/lib/python3.8/site-packages/pyganja/__init__.py:2: UserWarning: Failed to import cef_gui, cef functions will be unavailable\n",
      "  from .script_api import *\n"
     ]
    }
   ],
   "source": [
    "import numpy as np\n",
    "from clifford.tools.g3c import *"
   ]
  },
  {
   "cell_type": "markdown",
   "id": "7c44648d",
   "metadata": {},
   "source": [
    "Creating a sphere in CGA, located at x with radius r. All objects in CGA have a dual equivalent (the dual of a dual is the object itself)."
   ]
  },
  {
   "cell_type": "code",
   "execution_count": 2,
   "id": "9132fb5e",
   "metadata": {},
   "outputs": [
    {
     "name": "stdout",
     "output_type": "stream",
     "text": [
      "center =  (1^e1) + (2^e2) + (3^e3) \n",
      "radius =  4\n",
      "The sphere s in CGA = \n",
      " (1.0^e1) + (2.0^e2) + (3.0^e3) - (1.5^e4) - (0.5^e5)\n"
     ]
    }
   ],
   "source": [
    "x = [1,2,3]\n",
    "r = 4\n",
    "center = x[0]*e1+x[1]*e2+x[2]*e3\n",
    "print('center = ', center, '\\nradius = ', r)\n",
    "s = up(center)-1/2*r**2*einf\n",
    "print('The sphere s in CGA = \\n', s)\n",
    "s_dual = fast_dual(s)"
   ]
  },
  {
   "cell_type": "markdown",
   "id": "fec627a4",
   "metadata": {},
   "source": [
    "Creating a line in CGA, going through points euc_p1 and euc_p2. All objects in CGA have a dual equivalent (the dual of a dual is the object itself)."
   ]
  },
  {
   "cell_type": "code",
   "execution_count": 3,
   "id": "1a981edf",
   "metadata": {},
   "outputs": [
    {
     "name": "stdout",
     "output_type": "stream",
     "text": [
      "\n",
      "The line L that goes through this point = \n",
      " (4.0^e12) - (2.0^e13) - (2.0^e14) - (2.0^e15) + (2.0^e23) + (2.0^e24) + (2.0^e25)\n"
     ]
    }
   ],
   "source": [
    "euc_p1 = [-1,-1,-1]\n",
    "euc_p2 = [1,1,3]\n",
    "\n",
    "p1 = up(euc_p1[0]*e1+euc_p1[1]*e2+euc_p1[2]*e3)\n",
    "p2 = up(euc_p2[0]*e1+euc_p2[1]*e2+euc_p2[2]*e3)\n",
    "\n",
    "L_dual = (p1)^(p2)^einf #line that goes through (3,4,0),(3,5,2) (and infinity)\n",
    "L = fast_dual(L_dual)\n",
    "\n",
    "print('\\nThe line L that goes through this point = \\n', L)"
   ]
  },
  {
   "cell_type": "markdown",
   "id": "9b5f24eb",
   "metadata": {},
   "source": [
    "The intersection of the sphere s and the line L is simply L^S (^ is denoted as meet)"
   ]
  },
  {
   "cell_type": "code",
   "execution_count": 4,
   "id": "5c3db46f",
   "metadata": {},
   "outputs": [
    {
     "name": "stdout",
     "output_type": "stream",
     "text": [
      "\n",
      "The Their intersection is : \n",
      " (2.0^e13) + (7.0^e14) + (9.0^e15) + (2.0^e23) + (7.0^e24) + (9.0^e25) - (4.0^e34) + (18.0^e45)\n"
     ]
    }
   ],
   "source": [
    "I = meet(L_dual,s_dual)\n",
    "print('\\nThe Their intersection is : \\n', I)"
   ]
  },
  {
   "cell_type": "markdown",
   "id": "e9e9c56a",
   "metadata": {},
   "source": [
    "What exactly is this I? Let's us the following built in function:"
   ]
  },
  {
   "cell_type": "code",
   "execution_count": 5,
   "id": "49a91081",
   "metadata": {},
   "outputs": [
    {
     "name": "stdout",
     "output_type": "stream",
     "text": [
      "3\n"
     ]
    }
   ],
   "source": [
    "print(interpret_multivector_as_object(I))\n",
    "#     -1 -> not a blade\n",
    "#     0 -> a 1 vector but not a point\n",
    "#     1 -> a euclidean point\n",
    "#     2 -> a conformal point\n",
    "#     3 -> a point pair\n",
    "#     4 -> a circle\n",
    "#     5 -> a line\n",
    "#     6 -> a sphere\n",
    "#     7 -> a plane"
   ]
  },
  {
   "cell_type": "markdown",
   "id": "dd54bf77",
   "metadata": {},
   "source": [
    "This means that I is a point pair, i.e., two points bound in a single entity I. To extract these points from I, we can use the following handy function:"
   ]
  },
  {
   "cell_type": "code",
   "execution_count": 6,
   "id": "57d69d7a",
   "metadata": {},
   "outputs": [
    {
     "name": "stdout",
     "output_type": "stream",
     "text": [
      "(2.75657^e1) + (2.75657^e2) + (6.51313^e3) + (28.30909^e4) + (29.30909^e5)\n",
      "-(0.42323^e1) - (0.42323^e2) + (0.15354^e3) - (0.30909^e4) + (0.69091^e5)\n"
     ]
    }
   ],
   "source": [
    "A,B = point_pair_to_end_points(I) \n",
    "print(A)\n",
    "print(B)"
   ]
  },
  {
   "cell_type": "markdown",
   "id": "15248980",
   "metadata": {},
   "source": [
    "To understand exactly which euclidean points A, B correspond two we use the `down` function:"
   ]
  },
  {
   "cell_type": "markdown",
   "id": "298ea0db",
   "metadata": {},
   "source": [
    "Check if this corresponds to two points:"
   ]
  },
  {
   "cell_type": "code",
   "execution_count": 7,
   "id": "c5f1e4f9",
   "metadata": {},
   "outputs": [
    {
     "name": "stdout",
     "output_type": "stream",
     "text": [
      "(2.75657^e1) + (2.75657^e2) + (6.51313^e3)\n",
      "-(0.42323^e1) - (0.42323^e2) + (0.15354^e3)\n"
     ]
    }
   ],
   "source": [
    "print(down(A))\n",
    "print(down(B))"
   ]
  },
  {
   "cell_type": "markdown",
   "id": "648dd1da",
   "metadata": {},
   "source": [
    "The three numbers appearing correspond to the euclidean coordinates. To easily obtain them we can use: "
   ]
  },
  {
   "cell_type": "code",
   "execution_count": 8,
   "id": "e5504f77",
   "metadata": {},
   "outputs": [
    {
     "name": "stdout",
     "output_type": "stream",
     "text": [
      "(2.7565653356949014, 2.7565653356949014, 6.513130671389799)\n",
      "(-0.42323200236157626, -0.42323200236157626, 0.15353599527684747)\n"
     ]
    }
   ],
   "source": [
    "euc_A = down(A)[e1], down(A)[e2], down(A)[e3]\n",
    "euc_B = down(B)[e1], down(B)[e2], down(B)[e3]\n",
    "print(euc_A)\n",
    "print(euc_B)"
   ]
  },
  {
   "cell_type": "markdown",
   "id": "4e6ec810",
   "metadata": {},
   "source": [
    "Built-in functions such as `sphere_line_intersect` and `euc_dist` can help us check is a sphere/line intersect and the distance of two points in CGA, without having to translate back to Euclidean coordinates:"
   ]
  },
  {
   "cell_type": "code",
   "execution_count": 9,
   "id": "94ba970a",
   "metadata": {},
   "outputs": [
    {
     "name": "stdout",
     "output_type": "stream",
     "text": [
      "Line and sphere intersect\n"
     ]
    }
   ],
   "source": [
    "if sphere_line_intersect(L_dual,s_dual): # i.e., if meet(s,L) >0\n",
    "    print(\"Line and sphere intersect\")\n",
    "    I = meet(L_dual,s_dual)\n",
    "    A,B = point_pair_to_end_points(I) "
   ]
  },
  {
   "cell_type": "code",
   "execution_count": 10,
   "id": "be1ffd06",
   "metadata": {},
   "outputs": [
    {
     "name": "stdout",
     "output_type": "stream",
     "text": [
      "The distance of point p1 from point A is  9.201668257879513\n"
     ]
    }
   ],
   "source": [
    "dist_from_A = euc_dist(p1, A)\n",
    "print(\"The distance of point p1 from point A is \", dist_from_A)\n"
   ]
  },
  {
   "cell_type": "markdown",
   "id": "1fb1147c",
   "metadata": {},
   "source": [
    "# Visualizing the above"
   ]
  },
  {
   "cell_type": "markdown",
   "id": "d5d6cb92",
   "metadata": {},
   "source": [
    "The visualization of a scene with elements of CGA and/or PGA can be easily accomplished via the `pyganja` package"
   ]
  },
  {
   "cell_type": "code",
   "execution_count": 11,
   "id": "bb77e885",
   "metadata": {},
   "outputs": [],
   "source": [
    "from pyganja import *  \n",
    "\n",
    "# fixing issue with ganja printing\n",
    "A = up(down(A))\n",
    "B = up(down(B))"
   ]
  },
  {
   "cell_type": "markdown",
   "id": "7b4cd54a",
   "metadata": {},
   "source": [
    "We can now create a scene and start *adding* elements (multivectors) to it. The scene is then visualized using the `draw` function."
   ]
  },
  {
   "cell_type": "code",
   "execution_count": 12,
   "id": "a3d65962",
   "metadata": {
    "scrolled": false
   },
   "outputs": [],
   "source": [
    "gs3 = GanjaScene()\n",
    "gs3.add_objects([up(center)],color=Color.RED)\n",
    "gs3.add_objects([A],color=Color.YELLOW)\n",
    "gs3.add_objects([B],color=Color.CYAN)\n",
    "gs3.add_objects([p1],color=Color.GREEN)\n",
    "gs3.add_objects([p2],color=Color.MAGENTA)\n",
    "gs3.add_objects([L_dual],color=Color.MAGENTA) # we have to draw the dual of the line to visualize it\n",
    "gs3.add_objects([s],color=Color.BLUE)\n"
   ]
  },
  {
   "cell_type": "markdown",
   "id": "465185fa",
   "metadata": {},
   "source": [
    "We can now draw the scene by uncommenting the following code. \n",
    "**Known Issue:** Note that in VSCode sometimes you may have issues rendering the scene. If that happens, try running the code of the Jupyter Notebook in a browser (e.g., Firefox) via terminal command (`jupyter notebook`).\n",
    "If you cannot scroll through the image in VSCode, hit `Clear All Outputs` button and run the cell again."
   ]
  },
  {
   "cell_type": "code",
   "execution_count": 13,
   "id": "4f2aa941",
   "metadata": {},
   "outputs": [],
   "source": [
    "# draw(gs3,scale=0.15)"
   ]
  },
  {
   "cell_type": "markdown",
   "id": "74854bac",
   "metadata": {},
   "source": [
    "The following code will save the scene in a file called `myscene.html`: You can open it in a browser to visualize the scene."
   ]
  },
  {
   "cell_type": "code",
   "execution_count": 14,
   "id": "ef38d305",
   "metadata": {},
   "outputs": [],
   "source": [
    "\n",
    "with open('myscene.html', 'w') as test_file:\n",
    "            test_file.write(generate_full_html(str(gs3), sig=layout.sig, grid=True, scale=0.15, gl=True))\n"
   ]
  }
 ],
 "metadata": {
  "kernelspec": {
   "display_name": "elements",
   "language": "python",
   "name": "python3"
  },
  "language_info": {
   "codemirror_mode": {
    "name": "ipython",
    "version": 3
   },
   "file_extension": ".py",
   "mimetype": "text/x-python",
   "name": "python",
   "nbconvert_exporter": "python",
   "pygments_lexer": "ipython3",
   "version": "3.8.16"
  }
 },
 "nbformat": 4,
 "nbformat_minor": 5
}
